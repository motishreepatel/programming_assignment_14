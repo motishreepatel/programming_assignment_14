{
 "cells": [
  {
   "cell_type": "code",
   "execution_count": 1,
   "metadata": {},
   "outputs": [
    {
     "name": "stdout",
     "output_type": "stream",
     "text": [
      "Numbers divisible are 7 are: \n",
      "0\n",
      "7\n"
     ]
    }
   ],
   "source": [
    "#Question1: Define a class with a generator which can iterate the numbers, which are divisible by 7, between a given range 0 and n.\n",
    "\n",
    "class DivisibleBySevenGenerator:\n",
    "    def __init__(self,n):\n",
    "        self.n = n\n",
    "    \n",
    "    def generate_numbers(self):\n",
    "        for num in range(self.n + 1):\n",
    "            if num%7 == 0:\n",
    "                yield num\n",
    "\n",
    "n = int(input(\"Enter a number: \"))\n",
    "generator = DivisibleBySevenGenerator(n)\n",
    "\n",
    "print(\"Numbers divisible are 7 are: \")\n",
    "for number in generator.generate_numbers():\n",
    "    print(number)\n"
   ]
  },
  {
   "cell_type": "code",
   "execution_count": 3,
   "metadata": {},
   "outputs": [
    {
     "name": "stdout",
     "output_type": "stream",
     "text": [
      "Word frequency:\n",
      "2: 2\n",
      "3.: 1\n",
      "3?: 1\n",
      "New: 1\n",
      "Python: 5\n",
      "Read: 1\n",
      "and: 1\n",
      "between: 1\n",
      "choosing: 1\n",
      "or: 2\n",
      "to: 1\n"
     ]
    }
   ],
   "source": [
    "#Q 2- Write a program to compute the frequency of the words from the input. The output should output after sorting the key alphanumerically.\n",
    "#Answer:\n",
    "\n",
    "def compute_word_frequency(input_string):\n",
    "    words = input_string.split()\n",
    "    word_frequency = {}\n",
    "\n",
    "    for word in words:\n",
    "        word_frequency[word] = word_frequency.get(word, 0) + 1\n",
    "\n",
    "    sorted_words = sorted(word_frequency.keys())\n",
    "\n",
    "    return word_frequency, sorted_words\n",
    "\n",
    "# Example usage\n",
    "input_text = input(\"Enter a sentence: \")\n",
    "frequency_dict, sorted_words = compute_word_frequency(input_text)\n",
    "\n",
    "print(\"Word frequency:\")\n",
    "for word in sorted_words:\n",
    "    print(f\"{word}: {frequency_dict[word]}\")"
   ]
  },
  {
   "cell_type": "code",
   "execution_count": 4,
   "metadata": {},
   "outputs": [
    {
     "name": "stdout",
     "output_type": "stream",
     "text": [
      "Male\n",
      "Femal\n"
     ]
    }
   ],
   "source": [
    "#Q -3 - Define a class Person and its two child classes: Male and Female. All classes have a method &quot;getGender&quot; which can print &quot;Male&quot; for Male class and &quot;Female&quot; for Female class.\n",
    "#Answer:\n",
    "class Person:\n",
    "    def getGender(self):\n",
    "        pass\n",
    "class Male(Person):\n",
    "    def getGender(self):\n",
    "        print(\"Male\")\n",
    "\n",
    "class Female(Person):\n",
    "    def getGender(self):\n",
    "        print(\"Femal\")\n",
    "\n",
    "person1 = Male()\n",
    "person1.getGender()\n",
    "\n",
    "person2 = Female()\n",
    "person2.getGender()\n"
   ]
  },
  {
   "cell_type": "code",
   "execution_count": 5,
   "metadata": {},
   "outputs": [
    {
     "name": "stdout",
     "output_type": "stream",
     "text": [
      "I Play Hockey\n",
      "I Play Football\n",
      "I Love Hockey\n",
      "I Love Football\n",
      "You Play Hockey\n",
      "You Play Football\n",
      "You Love Hockey\n",
      "You Love Football\n"
     ]
    }
   ],
   "source": [
    "#Q -4 Please write a program to generate all sentences where subject is in [&quot;I&quot;, &quot;You&quot;] and verb is in [&quot;Play&quot;, &quot;Love&quot;] and the object is in [&quot;Hockey&quot;,&quot;Football&quot;].\n",
    "#Answer:\n",
    "subjects = [\"I\", \"You\"]\n",
    "verbs = [\"Play\", \"Love\"]\n",
    "objects = [\"Hockey\", \"Football\"]\n",
    "\n",
    "sentences=[]\n",
    "\n",
    "for subject in subjects:\n",
    "    for verb in verbs:\n",
    "        for object in objects:\n",
    "            sentence = f\"{subject} {verb} {object}\"\n",
    "            sentences.append(sentence)\n",
    "\n",
    "for sentence in sentences:\n",
    "    print(sentence)\n",
    "\n"
   ]
  },
  {
   "cell_type": "code",
   "execution_count": 6,
   "metadata": {},
   "outputs": [
    {
     "name": "stdout",
     "output_type": "stream",
     "text": [
      "Compressed data:  b'x\\x9c\\xcbH\\xcd\\xc9\\xc9W(\\xcf/\\xcaIQ\\xcc \\x82\\r\\x00\\xbd[\\x11\\xf5'\n",
      "Decompressed string: hello world!hello world!hello world!hello world!\n"
     ]
    }
   ],
   "source": [
    "#Q- 5 - Please write a program to compress and decompress the string &quot;hello world!hello world!hello world!hello world!&quot;.\n",
    "#Answer:\n",
    "import zlib #zlib module provides functions for compressing and decompressing data using zlib compression algorithm\n",
    "\n",
    "def string_compress(input_string):\n",
    "    compressed_data = zlib.compress(input_string.encode())\n",
    "    return compressed_data\n",
    "\n",
    "def string_decompress(input_string):\n",
    "    decompressed_data = zlib.decompress(compressed_data).decode()\n",
    "    return decompressed_data\n",
    "\n",
    "input_str = \"hello world!hello world!hello world!hello world!\"\n",
    "compressed_data = string_compress(input_str)\n",
    "print(\"Compressed data: \",compressed_data)\n",
    "\n",
    "decompressed_data = string_decompress(input_str)\n",
    "print(\"Decompressed string:\",decompressed_data )"
   ]
  },
  {
   "cell_type": "code",
   "execution_count": 7,
   "metadata": {},
   "outputs": [
    {
     "name": "stdout",
     "output_type": "stream",
     "text": [
      "Element 9 found at index 3.\n"
     ]
    }
   ],
   "source": [
    "#Q - Please write a binary search function which searches an item in a sorted list. The function should return the index of element to be searched in the list.\n",
    "#Answer:\n",
    "def binary_search(arr, target):\n",
    "    left = 0\n",
    "    right = len(arr) - 1\n",
    "\n",
    "    while left <= right:\n",
    "        mid = (left + right) // 2\n",
    "\n",
    "        if arr[mid] == target:\n",
    "            return mid\n",
    "        elif arr[mid] < target:\n",
    "            left = mid + 1\n",
    "        else:\n",
    "            right = mid - 1\n",
    "\n",
    "    return -1\n",
    "\n",
    "# Example usage\n",
    "sorted_list = [2, 5, 7, 9, 12, 15, 18, 20]\n",
    "target = 9\n",
    "\n",
    "index = binary_search(sorted_list, target)\n",
    "\n",
    "if index != -1:\n",
    "    print(f\"Element {target} found at index {index}.\")\n",
    "else:\n",
    "    print(f\"Element {target} not found in the list.\")\n"
   ]
  },
  {
   "cell_type": "code",
   "execution_count": null,
   "metadata": {},
   "outputs": [],
   "source": []
  }
 ],
 "metadata": {
  "kernelspec": {
   "display_name": "Python 3.9.6 64-bit",
   "language": "python",
   "name": "python3"
  },
  "language_info": {
   "codemirror_mode": {
    "name": "ipython",
    "version": 3
   },
   "file_extension": ".py",
   "mimetype": "text/x-python",
   "name": "python",
   "nbconvert_exporter": "python",
   "pygments_lexer": "ipython3",
   "version": "3.9.6"
  },
  "orig_nbformat": 4,
  "vscode": {
   "interpreter": {
    "hash": "31f2aee4e71d21fbe5cf8b01ff0e069b9275f58929596ceb00d14d90e3e16cd6"
   }
  }
 },
 "nbformat": 4,
 "nbformat_minor": 2
}
